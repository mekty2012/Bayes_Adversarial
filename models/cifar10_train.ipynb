{
 "cells": [
  {
   "cell_type": "code",
   "execution_count": 1,
   "metadata": {},
   "outputs": [
    {
     "data": {
      "text/plain": [
       "<torch._C.Generator at 0x23392b0b690>"
      ]
     },
     "execution_count": 1,
     "metadata": {},
     "output_type": "execute_result"
    }
   ],
   "source": [
    "import torch\n",
    "from torch import optim, nn, utils\n",
    "import numpy as np\n",
    "import layers\n",
    "import lenet5_cifar10 as models\n",
    "from torchvision import datasets, transforms\n",
    "\n",
    "seed = 2022\n",
    "torch.manual_seed(2022)"
   ]
  },
  {
   "cell_type": "code",
   "execution_count": 2,
   "metadata": {},
   "outputs": [
    {
     "name": "stdout",
     "output_type": "stream",
     "text": [
      "Files already downloaded and verified\n",
      "Files already downloaded and verified\n",
      "Train :  40000\n",
      "Validation :  10000\n",
      "Test :  10000\n"
     ]
    }
   ],
   "source": [
    "transform = transforms.ToTensor()\n",
    "root = \"./CIFAR10_DATASET\"\n",
    "train_dataset = datasets.CIFAR10(root, transform=transform, train=True, download=True)\n",
    "train_dataset, valid_dataset = utils.data.random_split(train_dataset, [40000, 10000])\n",
    "test_dataset = datasets.CIFAR10(root, transform=transform, train=False, download=True)\n",
    "\n",
    "print(\"Train : \", len(train_dataset))\n",
    "print(\"Validation : \", len(valid_dataset))\n",
    "print(\"Test : \", len(test_dataset))\n",
    "\n",
    "train_batchsize = 64\n",
    "test_batchsize = 256\n",
    "\n",
    "train_dataloader = utils.data.DataLoader(train_dataset, batch_size=train_batchsize, shuffle=True)\n",
    "valid_dataloader = utils.data.DataLoader(valid_dataset, batch_size=test_batchsize, shuffle=False)\n",
    "test_dataloader = utils.data.DataLoader(test_dataset, batch_size=test_batchsize, shuffle=False)"
   ]
  },
  {
   "cell_type": "code",
   "execution_count": 10,
   "metadata": {},
   "outputs": [],
   "source": [
    "def cifar10_experiment(bnn_model, train_dataloader, valid_dataloader, use_aleatoric=True, **kwargs):\n",
    "  if bnn_model == \"gaussian\":\n",
    "    model = models.gaussian_lenet5(kwargs[\"var_type\"], dict(), kwargs[\"is_lrt\"], use_aleatoric)\n",
    "    if torch.cuda.is_available():\n",
    "      model = model.cuda()\n",
    "    optimizer = optim.SGD(model.parameters(), kwargs[\"lr\"], kwargs[\"momentum\"])\n",
    "    scheduler = optim.lr_scheduler.ExponentialLR(optimizer, 0.1 ** (1/100))\n",
    "    # Every forward gives different output.\n",
    "    bnn_type = \"random\"\n",
    "  elif bnn_model == \"dropout\":\n",
    "    model = models.dropout_lenet5(kwargs[\"dropout_rate\"], kwargs[\"dropout_type\"], dict(), use_aleatoric)\n",
    "    if torch.cuda.is_available():\n",
    "      model = model.cuda()\n",
    "    optimizer = optim.SGD(model.parameters(), kwargs[\"lr\"], kwargs[\"momentum\"], weight_decay=(1 - kwargs[\"dropout_rate\"]) / 2 * kwargs[\"num_sample\"])\n",
    "    scheduler = optim.lr_scheduler.ExponentialLR(optimizer, 0.1 ** (1/100))\n",
    "    # Every forward gives different output.\n",
    "    bnn_type = \"random\"\n",
    "  elif bnn_model == \"ensemble\":\n",
    "    model = models.ensemble_lenet5(kwargs[\"num_ensemble\"], use_aleatoric)\n",
    "    if torch.cuda.is_available():\n",
    "      model = model.cuda()\n",
    "    optimizer = optim.SGD(model.parameters(), kwargs[\"lr\"], kwargs[\"momentum\"])\n",
    "    scheduler = optim.lr_scheduler.ExponentialLR(optimizer, 0.1 ** (1/100))\n",
    "    # Forward gives [batch_size * num_ensemble, output_shape]\n",
    "    bnn_type = \"ensemble\"\n",
    "  elif bnn_model == \"swag\":\n",
    "    model = models.lenet5(use_aleatoric)\n",
    "    if torch.cuda.is_available():\n",
    "      model = model.cuda()\n",
    "    optimizer = optim.SGD(model.parameters(), kwargs[\"lr\"], kwargs[\"momentum\"])\n",
    "    scheduler = optim.lr_scheduler.ExponentialLR(optimizer, 0.1 ** (1/100))\n",
    "    # SWAG is trained as simple NN.\n",
    "    bnn_type = \"swag\"\n",
    "  elif bnn_model == \"batchensemble\":\n",
    "    model = models.batchensemble_lenet5(kwargs[\"num_models\"], use_aleatoric)\n",
    "    if torch.cuda.is_available():\n",
    "      model = model.cuda()\n",
    "    optimizer = optim.SGD(model.parameters(), kwargs[\"lr\"], kwargs[\"momentum\"])\n",
    "    scheduler = optim.lr_scheduler.ExponentialLR(optimizer, 0.1 ** (1/100))\n",
    "    # Forward gives [batch_size * num_models, output_shape]\n",
    "    bnn_type = \"ensemble\"\n",
    "    kwargs[\"num_ensemble\"] = kwargs[\"num_models\"]\n",
    "  else:\n",
    "    raise ValueError(\"No bnn model choosen.\")\n",
    "\n",
    "  criterion = nn.CrossEntropyLoss()\n",
    "  train_loss_res = []\n",
    "  valid_loss_res = []\n",
    "  train_acc_res = []\n",
    "  valid_acc_res = []\n",
    "  for epoch in range(kwargs[\"epoch\"]):\n",
    "    train_loss = 0.0\n",
    "    train_acc_count = 0\n",
    "    model.train()\n",
    "    for data in train_dataloader:\n",
    "      images, labels = data\n",
    "      if torch.cuda.is_available():\n",
    "        images = images.cuda()\n",
    "        labels = labels.cuda()\n",
    "      if bnn_type == \"random\":\n",
    "        for ind_sample in range(kwargs[\"num_sample\"]):\n",
    "          outputs = model(images)\n",
    "          if use_aleatoric:\n",
    "            output_mean, output_std = torch.chunk(outputs, 2, dim=1)\n",
    "            eps = torch.normal(0, 1, output_mean.shape, device='cuda' if torch.cuda.is_available() else 'cpu')\n",
    "            outputs = output_mean + eps * output_std\n",
    "          loss = criterion(outputs, labels)\n",
    "          loss.backward()\n",
    "          optimizer.step()\n",
    "\n",
    "          train_loss += loss.item() / kwargs[\"num_sample\"]\n",
    "          output_pred = torch.argmax(outputs.detach(), dim=1)\n",
    "          train_acc_count += torch.count_nonzero(output_pred == labels).item() / kwargs[\"num_sample\"]\n",
    "          \n",
    "      elif bnn_type == \"ensemble\":\n",
    "        outputs = model(images)\n",
    "        if use_aleatoric:\n",
    "          output_mean, output_std = torch.chunk(outputs, 2, dim=1)\n",
    "          eps = torch.normal(0, 1, output_mean.shape, device='cuda' if torch.cuda.is_available() else 'cpu')\n",
    "          outputs = output_mean + eps * output_std\n",
    "        labels = labels.repeat(kwargs[\"num_ensemble\"]) # [y1, y2, ..., y1, y2, ..., ] with num_ensemble times\n",
    "        loss = criterion(outputs, labels) * kwargs[\"num_ensemble\"]\n",
    "        loss.backward()\n",
    "        optimizer.step()\n",
    "\n",
    "        train_loss += loss.item() / kwargs[\"num_ensemble\"]\n",
    "        output_pred = torch.argmax(outputs.detach(), dim=1)\n",
    "        train_acc_count += torch.count_nonzero(output_pred == labels).item() / kwargs[\"num_ensemble\"]\n",
    "      else:\n",
    "        outputs = model(images)\n",
    "        if use_aleatoric:\n",
    "          output_mean, output_std = torch.chunk(outputs, 2, dim=1)\n",
    "          eps = torch.normal(0, 1, output_mean.shape, device='cuda' if torch.cuda.is_available() else 'cpu')\n",
    "          outputs = output_mean + eps * output_std\n",
    "        loss = criterion(outputs, labels)\n",
    "        loss.backward()\n",
    "        optimizer.step()\n",
    "\n",
    "        train_loss += loss.item()\n",
    "        output_pred = torch.argmax(outputs.detach(), dim=1)\n",
    "        train_acc_count += torch.count_nonzero(output_pred == labels).item()\n",
    "    train_loss_res.append(train_loss)\n",
    "    train_acc_res.append(train_acc_count / len(train_dataset))\n",
    "\n",
    "    model.eval()\n",
    "    valid_loss = 0.0\n",
    "    valid_acc_count = 0\n",
    "    with torch.no_grad():\n",
    "      for data in valid_dataloader:\n",
    "        images, labels = data\n",
    "        if torch.cuda.is_available():\n",
    "          images = images.cuda() \n",
    "          labels = labels.cuda()\n",
    "        if bnn_type == \"random\":\n",
    "          for ind_sample in range(kwargs[\"valid_num_sample\"]):\n",
    "            outputs = model(images)\n",
    "            if use_aleatoric:\n",
    "              output_mean, output_std = torch.chunk(outputs, 2, dim=1)\n",
    "              eps = torch.normal(0, 1, output_mean.shape, device='cuda' if torch.cuda.is_available() else 'cpu')\n",
    "              outputs = output_mean + eps * output_std\n",
    "            loss = criterion(outputs, labels)\n",
    "            \n",
    "            valid_loss += loss.item() / kwargs[\"valid_num_sample\"]\n",
    "            output_pred = torch.argmax(outputs.detach(), dim=1)\n",
    "            valid_acc_count += torch.count_nonzero(output_pred == labels).item() / kwargs[\"valid_num_sample\"]\n",
    "        elif bnn_type == \"ensemble\":\n",
    "          outputs = model(images)\n",
    "          if use_aleatoric:\n",
    "            output_mean, output_std = torch.chunk(outputs, 2, dim=1)\n",
    "            eps = torch.normal(0, 1, output_mean.shape, device='cuda' if torch.cuda.is_available() else 'cpu')\n",
    "            outputs = output_mean + eps * output_std\n",
    "          labels = labels.repeat(kwargs[\"num_ensemble\"]) # [y1, y2, ..., y1, y2, ..., ] with num_ensemble times\n",
    "          loss = criterion(outputs, labels) * kwargs[\"num_ensemble\"]\n",
    "          valid_loss += loss.item() / kwargs[\"num_ensemble\"]\n",
    "          output_pred = torch.argmax(outputs.detach(), dim=1)\n",
    "          valid_acc_count += torch.count_nonzero(output_pred == labels).item() / kwargs[\"num_ensemble\"]\n",
    "        else:\n",
    "          outputs = model(images)\n",
    "          if use_aleatoric:\n",
    "            output_mean, output_std = torch.chunk(outputs, 2, dim=1)\n",
    "            eps = torch.normal(0, 1, output_mean.shape, device='cuda' if torch.cuda.is_available() else 'cpu')\n",
    "            outputs = output_mean + eps * output_std\n",
    "          loss = criterion(outputs, labels)\n",
    "          valid_loss += loss.item()\n",
    "          output_pred = torch.argmax(outputs.detach(), dim=1)\n",
    "          valid_acc_count += torch.count_nonzero(output_pred == labels).item()\n",
    "    valid_loss_res.append(valid_loss)\n",
    "    valid_acc_res.append(valid_acc_count / len(valid_dataset))\n",
    "  \n",
    "  return model, train_loss_res, train_acc_res, valid_loss_res, valid_acc_res"
   ]
  },
  {
   "cell_type": "code",
   "execution_count": 5,
   "metadata": {},
   "outputs": [],
   "source": [
    "res = dict()\n",
    "g_model_sq, tr_los, tr_ac, te_los, te_ac = cifar10_experiment(\"gaussian\", train_dataloader, valid_dataloader, var_type='sq', is_lrt=True, num_sample=5, valid_num_sample=20, epoch=5, lr=0.00001, momentum=0.1)\n",
    "res[\"g_sq\"] = (tr_los, tr_ac, te_los, te_ac)\n",
    "model, tr_los, tr_ac, te_los, te_ac = cifar10_experiment(\"gaussian\", train_dataloader, valid_dataloader, var_type='exp', is_lrt=True, num_sample=5, valid_num_sample=20, epoch=5, lr=0.00001, momentum=0.1)\n",
    "res[\"g_exp\"] = (tr_los, tr_ac, te_los, te_ac)"
   ]
  },
  {
   "cell_type": "code",
   "execution_count": 6,
   "metadata": {},
   "outputs": [],
   "source": [
    "d_model_w, tr_los, tr_ac, te_los, te_ac = cifar10_experiment(\"dropout\", train_dataloader, valid_dataloader, dropout_rate=0.2, dropout_type='w', num_sample=5, valid_num_sample=20, epoch=5, lr=0.00001, momentum=0.1)\n",
    "res[\"d_w\"] = (tr_los, tr_ac, te_los, te_ac)\n",
    "d_model_f, tr_los, tr_ac, te_los, te_ac = cifar10_experiment(\"dropout\", train_dataloader, valid_dataloader, dropout_rate=0.2, dropout_type='f', num_sample=5, valid_num_sample=20, epoch=5, lr=0.00001, momentum=0.1)\n",
    "res[\"d_f\"] = (tr_los, tr_ac, te_los, te_ac)\n",
    "d_model_c, tr_los, tr_ac, te_los, te_ac = cifar10_experiment(\"dropout\", train_dataloader, valid_dataloader, dropout_rate=0.2, dropout_type='c', num_sample=5, valid_num_sample=20, epoch=5, lr=0.00001, momentum=0.1)\n",
    "res[\"d_c\"] = (tr_los, tr_ac, te_los, te_ac)"
   ]
  },
  {
   "cell_type": "code",
   "execution_count": 11,
   "metadata": {},
   "outputs": [],
   "source": [
    "e_model, tr_los, tr_ac, te_los, te_ac = cifar10_experiment(\"ensemble\", train_dataloader, valid_dataloader, num_ensemble = 5, epoch=5, lr=0.00001, momentum=0.1)\n",
    "res[\"e\"] = (tr_los, tr_ac, te_los, te_ac)"
   ]
  },
  {
   "cell_type": "code",
   "execution_count": 12,
   "metadata": {},
   "outputs": [],
   "source": [
    "model, tr_los, tr_ac, te_los, te_ac = cifar10_experiment(\"swag\", train_dataloader, valid_dataloader, epoch=5, lr=0.00001, momentum=0.1)\n",
    "res[\"s\"] = (tr_los, tr_ac, te_los, te_ac)"
   ]
  },
  {
   "cell_type": "code",
   "execution_count": 13,
   "metadata": {},
   "outputs": [],
   "source": [
    "b_model, tr_los, tr_ac, te_los, te_ac = cifar10_experiment(\"batchensemble\", train_dataloader, valid_dataloader, num_models=5, epoch=5, lr=0.00001, momentum=0.1)"
   ]
  },
  {
   "cell_type": "code",
   "execution_count": 15,
   "metadata": {},
   "outputs": [
    {
     "name": "stdout",
     "output_type": "stream",
     "text": [
      "g_sq [1448.8034969091395, 1313.0767204999931, 1263.7788180112807, 1206.261340260507, 1161.5435376167259]\n",
      "g_exp [11757.193000411977, 8924.014388847354, 5629.349616241436, 3346.8385259151437, 2244.986705780036]\n",
      "d_w [1406.1137231826756, 1296.0705082178122, 1238.433707475662, 1213.6736639738074, 1183.8800067663217]\n",
      "d_f [1379.1210598230336, 1265.2037019968052, 1203.4538650274294, 1180.36409025192, 1172.8353870153412]\n",
      "d_c [1404.3464307069803, 1316.2657466888436, 1282.413014459608, 1265.7925008296966, 1255.4905275821707]\n",
      "e [1440.3204744338989, 1432.8018617630003, 1398.9832727432258, 1332.905601119995, 1305.190331840516]\n",
      "s [1440.7577877044678, 1436.5418717861176, 1424.1227571964264, 1347.0442192554474, 1311.9374333620071]\n"
     ]
    }
   ],
   "source": [
    "for k, v in res.items():\n",
    "  print(k, v[0])"
   ]
  }
 ],
 "metadata": {
  "interpreter": {
   "hash": "11938c6bc6919ae2720b4d5011047913343b08a43b18698fd82dedb0d4417594"
  },
  "kernelspec": {
   "display_name": "Python 3.9.6 64-bit",
   "language": "python",
   "name": "python3"
  },
  "language_info": {
   "codemirror_mode": {
    "name": "ipython",
    "version": 3
   },
   "file_extension": ".py",
   "mimetype": "text/x-python",
   "name": "python",
   "nbconvert_exporter": "python",
   "pygments_lexer": "ipython3",
   "version": "3.9.6"
  },
  "orig_nbformat": 4
 },
 "nbformat": 4,
 "nbformat_minor": 2
}
