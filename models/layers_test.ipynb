{
 "cells": [
  {
   "cell_type": "code",
   "execution_count": 1,
   "metadata": {},
   "outputs": [],
   "source": [
    "import layers\n",
    "import torch"
   ]
  },
  {
   "cell_type": "code",
   "execution_count": 2,
   "metadata": {},
   "outputs": [],
   "source": [
    "def linear_shape_test():\n",
    "  with torch.no_grad():\n",
    "    x = torch.rand([10, 5])\n",
    "    l = layers.Gaussian_Linear(5, 7, \"sq\")\n",
    "    assert list(l(x).shape) == [10, 7]\n",
    "    l = layers.Gaussian_Linear(5, 7, \"exp\")\n",
    "    assert list(l(x).shape) == [10, 7]\n",
    "    l = layers.Dropout_Linear(5, 7, 0.2, \"w\")\n",
    "    assert list(l(x).shape) == [10, 7]\n",
    "    l = layers.Dropout_Linear(5, 7, 0.2, \"f\")\n",
    "    assert list(l(x).shape) == [10, 7]\n",
    "\n",
    "def conv2d_shape_test():\n",
    "  with torch.no_grad():\n",
    "    x = torch.rand([10, 3, 5, 6])\n",
    "    demo_l = torch.nn.Conv2d(3, 7, 3)\n",
    "    demo_shape = list(demo_l(x).shape)\n",
    "\n",
    "    l = layers.Gaussian_Conv2D_LRT(3, 7, 3, \"sq\")\n",
    "    assert list(l(x).shape) == demo_shape\n",
    "    l = layers.Gaussian_Conv2D_LRT(3, 7, 3, \"exp\")\n",
    "    assert list(l(x).shape) == demo_shape\n",
    "    l = layers.Gaussian_Conv2D(3, 7, 3, \"sq\")\n",
    "    assert list(l(x).shape) == demo_shape\n",
    "    l = layers.Gaussian_Conv2D(3, 7, 3, \"exp\")\n",
    "    assert list(l(x).shape) == demo_shape\n",
    "    l = layers.Dropout_Conv2D(3, 7, 3, 0.2, \"w\")\n",
    "    assert list(l(x).shape) == demo_shape\n",
    "    l = layers.Dropout_Conv2D(3, 7, 3, 0.2, \"f\")\n",
    "    assert list(l(x).shape) == demo_shape\n",
    "    l = layers.Dropout_Conv2D(3, 7, 3, 0.2, \"c\")\n",
    "    assert list(l(x).shape) == demo_shape\n",
    "    "
   ]
  },
  {
   "cell_type": "code",
   "execution_count": 3,
   "metadata": {},
   "outputs": [],
   "source": [
    "linear_shape_test()\n",
    "conv2d_shape_test()"
   ]
  },
  {
   "cell_type": "code",
   "execution_count": 4,
   "metadata": {},
   "outputs": [],
   "source": [
    "def linear_rand_test():\n",
    "  with torch.no_grad():\n",
    "    x = torch.rand([1, 1])\n",
    "    l = layers.Gaussian_Linear(1, 10, \"sq\")\n",
    "    assert torch.any(l(x) != l(x))\n",
    "    l = layers.Gaussian_Linear(1, 10, \"exp\")\n",
    "    assert torch.any(l(x) != l(x))\n",
    "    \n",
    "    l = layers.Dropout_Linear(1, 10, 0.2, \"w\")\n",
    "    assert torch.any(l(x) != l(x))\n",
    "    l = layers.Dropout_Linear(1, 10, 0.2, \"f\")\n",
    "    assert torch.any(l(x) != l(x))\n",
    "\n",
    "def conv2d_rand_test():\n",
    "  with torch.no_grad():\n",
    "    x = torch.rand([1, 1, 3, 3])\n",
    "    \n",
    "    l = layers.Gaussian_Conv2D_LRT(1, 2, 3, \"sq\")\n",
    "    assert torch.any(l(x) != l(x))\n",
    "    l = layers.Gaussian_Conv2D_LRT(1, 2, 3, \"exp\")\n",
    "    assert torch.any(l(x) != l(x))\n",
    "    l = layers.Gaussian_Conv2D(1, 2, 3, \"sq\")\n",
    "    assert torch.any(l(x) != l(x))\n",
    "    l = layers.Gaussian_Conv2D(1, 2, 3, \"exp\")\n",
    "    assert torch.any(l(x) != l(x))\n",
    "    l = layers.Dropout_Conv2D(1, 2, 3, 0.2, \"w\")\n",
    "    assert torch.any(l(x) != l(x))\n",
    "    l = layers.Dropout_Conv2D(1, 10, 3, 0.2, \"f\")\n",
    "    assert torch.any(l(x) != l(x))\n",
    "    l = layers.Dropout_Conv2D(1, 10, 3, 0.2, \"c\")\n",
    "    assert torch.any(l(x) != l(x))\n",
    "    "
   ]
  },
  {
   "cell_type": "code",
   "execution_count": 5,
   "metadata": {},
   "outputs": [],
   "source": [
    "linear_rand_test()\n",
    "conv2d_rand_test()"
   ]
  }
 ],
 "metadata": {
  "interpreter": {
   "hash": "11938c6bc6919ae2720b4d5011047913343b08a43b18698fd82dedb0d4417594"
  },
  "kernelspec": {
   "display_name": "Python 3.9.6 64-bit",
   "language": "python",
   "name": "python3"
  },
  "language_info": {
   "codemirror_mode": {
    "name": "ipython",
    "version": 3
   },
   "file_extension": ".py",
   "mimetype": "text/x-python",
   "name": "python",
   "nbconvert_exporter": "python",
   "pygments_lexer": "ipython3",
   "version": "3.9.6"
  },
  "orig_nbformat": 4
 },
 "nbformat": 4,
 "nbformat_minor": 2
}
