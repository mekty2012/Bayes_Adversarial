{
 "cells": [
  {
   "cell_type": "code",
   "execution_count": 1,
   "metadata": {},
   "outputs": [
    {
     "data": {
      "text/plain": [
       "<torch._C.Generator at 0x1f207135690>"
      ]
     },
     "execution_count": 1,
     "metadata": {},
     "output_type": "execute_result"
    }
   ],
   "source": [
    "import torch\n",
    "from torch import optim, nn, utils\n",
    "import numpy as np\n",
    "import layers\n",
    "import lenet_mnist as models\n",
    "from torchvision import datasets, transforms\n",
    "\n",
    "seed = 2022\n",
    "torch.manual_seed(2022)"
   ]
  },
  {
   "cell_type": "code",
   "execution_count": 2,
   "metadata": {},
   "outputs": [
    {
     "name": "stdout",
     "output_type": "stream",
     "text": [
      "Train :  50000\n",
      "Validation :  10000\n",
      "Test :  10000\n",
      "torch.Size([64, 1, 28, 28])\n",
      "torch.Size([64])\n"
     ]
    }
   ],
   "source": [
    "transform = transforms.ToTensor()\n",
    "root = \"./MNIST_DATASET\"\n",
    "train_dataset = datasets.MNIST(root, transform=transform, train=True, download=True)\n",
    "train_dataset, valid_dataset = utils.data.random_split(train_dataset, [50000, 10000])\n",
    "test_dataset = datasets.MNIST(root, transform=transform, train=False, download=True)\n",
    "\n",
    "print(\"Train : \", len(train_dataset))\n",
    "print(\"Validation : \", len(valid_dataset))\n",
    "print(\"Test : \", len(test_dataset))\n",
    "\n",
    "train_batchsize = 64\n",
    "test_batchsize = 256\n",
    "\n",
    "train_dataloader = utils.data.DataLoader(train_dataset, batch_size=train_batchsize, shuffle=True)\n",
    "valid_dataloader = utils.data.DataLoader(valid_dataset, batch_size=test_batchsize, shuffle=False)\n",
    "test_dataloader = utils.data.DataLoader(test_dataset, batch_size=test_batchsize, shuffle=False)\n",
    "for data in train_dataloader:\n",
    "  image, labels = data\n",
    "  print(image.shape)\n",
    "  print(labels.shape)\n",
    "  break"
   ]
  },
  {
   "cell_type": "code",
   "execution_count": 3,
   "metadata": {},
   "outputs": [],
   "source": [
    "def mnist_experiment(bnn_model, train_dataloader, valid_dataloader, use_aleatoric=True, **kwargs):\n",
    "  if bnn_model == \"gaussian\":\n",
    "    model = models.gaussian_lenet5(kwargs[\"var_type\"], dict(), kwargs[\"is_lrt\"], use_aleatoric)\n",
    "    if torch.cuda.is_available():\n",
    "      model = model.cuda()\n",
    "    optimizer = optim.SGD(model.parameters(), kwargs[\"lr\"], kwargs[\"momentum\"])\n",
    "    scheduler = optim.lr_scheduler.ExponentialLR(optimizer, 0.1 ** (1/100))\n",
    "    # Every forward gives different output.\n",
    "    bnn_type = \"random\"\n",
    "  elif bnn_model == \"dropout\":\n",
    "    model = models.dropout_lenet5(kwargs[\"dropout_rate\"], kwargs[\"dropout_type\"], dict(), use_aleatoric)\n",
    "    if torch.cuda.is_available():\n",
    "      model = model.cuda()\n",
    "    optimizer = optim.SGD(model.parameters(), kwargs[\"lr\"], kwargs[\"momentum\"], weight_decay=(1 - kwargs[\"dropout_rate\"]) / 2 * kwargs[\"num_sample\"])\n",
    "    scheduler = optim.lr_scheduler.ExponentialLR(optimizer, 0.1 ** (1/100))\n",
    "    # Every forward gives different output.\n",
    "    bnn_type = \"random\"\n",
    "  elif bnn_model == \"ensemble\":\n",
    "    model = models.ensemble_lenet5(kwargs[\"num_ensemble\"], use_aleatoric)\n",
    "    if torch.cuda.is_available():\n",
    "      model = model.cuda()\n",
    "    optimizer = optim.SGD(model.parameters(), kwargs[\"lr\"], kwargs[\"momentum\"])\n",
    "    scheduler = optim.lr_scheduler.ExponentialLR(optimizer, 0.1 ** (1/100))\n",
    "    # Forward gives [batch_size * num_ensemble, output_shape]\n",
    "    bnn_type = \"ensemble\"\n",
    "  elif bnn_model == \"swag\":\n",
    "    model = models.lenet5(use_aleatoric)\n",
    "    if torch.cuda.is_available():\n",
    "      model = model.cuda()\n",
    "    optimizer = optim.SGD(model.parameters(), kwargs[\"lr\"], kwargs[\"momentum\"])\n",
    "    scheduler = optim.lr_scheduler.ExponentialLR(optimizer, 0.1 ** (1/100))\n",
    "    # SWAG is trained as simple NN.\n",
    "    bnn_type = \"swag\"\n",
    "  elif bnn_model == \"batchensemble\":\n",
    "    model = models.batchensemble_lenet5(kwargs[\"num_models\"], if torch.cuda.is_available():\n",
    "      model = model.cuda()\n",
    "    use_aleatoric)\n",
    "    optimizer = optim.SGD(model.parameters(), kwargs[\"lr\"], kwargs[\"momentum\"])\n",
    "    scheduler = optim.lr_scheduler.ExponentialLR(optimizer, 0.1 ** (1/100))\n",
    "    # Forward gives [batch_size * num_models, output_shape]\n",
    "    bnn_type = \"ensemble\"\n",
    "    kwargs[\"num_ensemble\"] = kwargs[\"num_models\"]\n",
    "  else:\n",
    "    raise ValueError(\"No bnn model choosen.\")\n",
    "\n",
    "  criterion = nn.CrossEntropyLoss()\n",
    "  train_loss_res = []\n",
    "  valid_loss_res = []\n",
    "  train_acc_res = []\n",
    "  valid_acc_res = []\n",
    "  for epoch in range(kwargs[\"epoch\"]):\n",
    "    train_loss = 0.0\n",
    "    train_acc_count = 0\n",
    "    model.train()\n",
    "    for data in train_dataloader:\n",
    "      images, labels = data\n",
    "      if torch.cuda.is_available():\n",
    "        images = images.cuda()\n",
    "        labels = labels.cuda()\n",
    "      if bnn_type == \"random\":\n",
    "        for ind_sample in range(kwargs[\"num_sample\"]):\n",
    "          outputs = model(images)\n",
    "          if use_aleatoric:\n",
    "            output_mean, output_std = torch.chunk(outputs, 2, dim=1)\n",
    "            eps = torch.normal(0, 1, output_mean.shape, device='cuda' if torch.cuda.is_available() else 'cpu')\n",
    "            outputs = output_mean + eps * output_std\n",
    "          loss = criterion(outputs, labels)\n",
    "          loss.backward()\n",
    "          optimizer.step()\n",
    "\n",
    "          train_loss += loss.item() / kwargs[\"num_sample\"]\n",
    "          output_pred = torch.argmax(outputs.detach(), dim=1)\n",
    "          train_acc_count += torch.count_nonzero(output_pred == labels).item() / kwargs[\"num_sample\"]\n",
    "          \n",
    "      elif bnn_type == \"ensemble\":\n",
    "        outputs = model(images)\n",
    "        if use_aleatoric:\n",
    "          output_mean, output_std = torch.chunk(outputs, 2, dim=1)\n",
    "          eps = torch.normal(0, 1, output_mean.shape, device='cuda' if torch.cuda.is_available() else 'cpu')\n",
    "          outputs = output_mean + eps * output_std\n",
    "        labels = labels.repeat(kwargs[\"num_ensemble\"]) # [y1, y2, ..., y1, y2, ..., ] with num_ensemble times\n",
    "        loss = criterion(outputs, labels) * kwargs[\"num_ensemble\"]\n",
    "        loss.backward()\n",
    "        optimizer.step()\n",
    "\n",
    "        train_loss += loss.item() / kwargs[\"num_ensemble\"]\n",
    "        output_pred = torch.argmax(outputs.detach(), dim=1)\n",
    "        train_acc_count += torch.count_nonzero(output_pred == labels).item() / kwargs[\"num_ensemble\"]\n",
    "      else:\n",
    "        outputs = model(images)\n",
    "        if use_aleatoric:\n",
    "          output_mean, output_std = torch.chunk(outputs, 2, dim=1)\n",
    "          eps = torch.normal(0, 1, output_mean.shape, device='cuda' if torch.cuda.is_available() else 'cpu')\n",
    "          outputs = output_mean + eps * output_std\n",
    "        loss = criterion(outputs, labels)\n",
    "        loss.backward()\n",
    "        optimizer.step()\n",
    "\n",
    "        train_loss += loss.item()\n",
    "        output_pred = torch.argmax(outputs.detach(), dim=1)\n",
    "        train_acc_count += torch.count_nonzero(output_pred == labels).item()\n",
    "    train_loss_res.append(train_loss)\n",
    "    train_acc_res.append(train_acc_count / len(train_dataset))\n",
    "    scheduler.step()\n",
    "\n",
    "    model.eval()\n",
    "    valid_loss = 0.0\n",
    "    valid_acc_count = 0\n",
    "    with torch.no_grad():\n",
    "      for data in valid_dataloader:\n",
    "        images, labels = data\n",
    "        if torch.cuda.is_available():\n",
    "          images = images.cuda()\n",
    "          labels = labels.cuda()\n",
    "        if bnn_type == \"random\":\n",
    "          for ind_sample in range(kwargs[\"valid_num_sample\"]):\n",
    "            outputs = model(images)\n",
    "            if use_aleatoric:\n",
    "              output_mean, output_std = torch.chunk(outputs, 2, dim=1)\n",
    "              eps = torch.normal(0, 1, output_mean.shape, device='cuda' if torch.cuda.is_available() else 'cpu')\n",
    "              outputs = output_mean + eps * output_std\n",
    "            loss = criterion(outputs, labels)\n",
    "            \n",
    "            valid_loss += loss.item() / kwargs[\"valid_num_sample\"]\n",
    "            output_pred = torch.argmax(outputs.detach(), dim=1)\n",
    "            valid_acc_count += torch.count_nonzero(output_pred == labels).item() / kwargs[\"valid_num_sample\"]\n",
    "        elif bnn_type == \"ensemble\":\n",
    "          outputs = model(images)\n",
    "          if use_aleatoric:\n",
    "            output_mean, output_std = torch.chunk(outputs, 2, dim=1)\n",
    "            eps = torch.normal(0, 1, output_mean.shape, device='cuda' if torch.cuda.is_available() else 'cpu')\n",
    "            outputs = output_mean + eps * output_std\n",
    "          labels = labels.repeat(kwargs[\"num_ensemble\"]) # [y1, y2, ..., y1, y2, ..., ] with num_ensemble times\n",
    "          loss = criterion(outputs, labels) * kwargs[\"num_ensemble\"]\n",
    "          valid_loss += loss.item() / kwargs[\"num_ensemble\"]\n",
    "          output_pred = torch.argmax(outputs.detach(), dim=1)\n",
    "          valid_acc_count += torch.count_nonzero(output_pred == labels).item() / kwargs[\"num_ensemble\"]\n",
    "        else:\n",
    "          outputs = model(images)\n",
    "          if use_aleatoric:\n",
    "            output_mean, output_std = torch.chunk(outputs, 2, dim=1)\n",
    "            eps = torch.normal(0, 1, output_mean.shape, device='cuda' if torch.cuda.is_available() else 'cpu')\n",
    "            outputs = output_mean + eps * output_std\n",
    "          loss = criterion(outputs, labels)\n",
    "          valid_loss += loss.item()\n",
    "          output_pred = torch.argmax(outputs.detach(), dim=1)\n",
    "          valid_acc_count += torch.count_nonzero(output_pred == labels).item()\n",
    "    valid_loss_res.append(valid_loss)\n",
    "    valid_acc_res.append(valid_acc_count / len(valid_dataset))\n",
    "  \n",
    "  return model, train_loss_res, train_acc_res, valid_loss_res, valid_acc_res"
   ]
  },
  {
   "cell_type": "code",
   "execution_count": 4,
   "metadata": {},
   "outputs": [],
   "source": [
    "res = dict()\n",
    "g_model_sq, tr_los, tr_ac, te_los, te_ac = mnist_experiment(\"gaussian\", train_dataloader, valid_dataloader, var_type='sq', is_lrt=True, num_sample=5, valid_num_sample=20, epoch=5, lr=0.00001, momentum=0.1)\n",
    "res[\"g_sq\"] = (tr_los, tr_ac, te_los, te_ac)\n",
    "model, tr_los, tr_ac, te_los, te_ac = mnist_experiment(\"gaussian\", train_dataloader, valid_dataloader, var_type='exp', is_lrt=True, num_sample=5, valid_num_sample=20, epoch=5, lr=0.00001, momentum=0.1)\n",
    "res[\"g_exp\"] = (tr_los, tr_ac, te_los, te_ac)"
   ]
  },
  {
   "cell_type": "code",
   "execution_count": 6,
   "metadata": {},
   "outputs": [
    {
     "ename": "KeyboardInterrupt",
     "evalue": "",
     "output_type": "error",
     "traceback": [
      "\u001b[1;31m---------------------------------------------------------------------------\u001b[0m",
      "\u001b[1;31mKeyboardInterrupt\u001b[0m                         Traceback (most recent call last)",
      "\u001b[1;32m~\\AppData\\Local\\Temp/ipykernel_8704/4038868435.py\u001b[0m in \u001b[0;36m<module>\u001b[1;34m\u001b[0m\n\u001b[0;32m      1\u001b[0m \u001b[0mres\u001b[0m\u001b[1;33m[\u001b[0m\u001b[1;34m\"d_w\"\u001b[0m\u001b[1;33m]\u001b[0m \u001b[1;33m=\u001b[0m \u001b[1;33m(\u001b[0m\u001b[0mtr_los\u001b[0m\u001b[1;33m,\u001b[0m \u001b[0mtr_ac\u001b[0m\u001b[1;33m,\u001b[0m \u001b[0mte_los\u001b[0m\u001b[1;33m,\u001b[0m \u001b[0mte_ac\u001b[0m\u001b[1;33m)\u001b[0m\u001b[1;33m\u001b[0m\u001b[1;33m\u001b[0m\u001b[0m\n\u001b[1;32m----> 2\u001b[1;33m \u001b[0md_model_f\u001b[0m\u001b[1;33m,\u001b[0m \u001b[0mtr_los\u001b[0m\u001b[1;33m,\u001b[0m \u001b[0mtr_ac\u001b[0m\u001b[1;33m,\u001b[0m \u001b[0mte_los\u001b[0m\u001b[1;33m,\u001b[0m \u001b[0mte_ac\u001b[0m \u001b[1;33m=\u001b[0m \u001b[0mmnist_experiment\u001b[0m\u001b[1;33m(\u001b[0m\u001b[1;34m\"dropout\"\u001b[0m\u001b[1;33m,\u001b[0m \u001b[0mtrain_dataloader\u001b[0m\u001b[1;33m,\u001b[0m \u001b[0mvalid_dataloader\u001b[0m\u001b[1;33m,\u001b[0m \u001b[0mdropout_rate\u001b[0m\u001b[1;33m=\u001b[0m\u001b[1;36m0.2\u001b[0m\u001b[1;33m,\u001b[0m \u001b[0mdropout_type\u001b[0m\u001b[1;33m=\u001b[0m\u001b[1;34m'f'\u001b[0m\u001b[1;33m,\u001b[0m \u001b[0mnum_sample\u001b[0m\u001b[1;33m=\u001b[0m\u001b[1;36m5\u001b[0m\u001b[1;33m,\u001b[0m \u001b[0mvalid_num_sample\u001b[0m\u001b[1;33m=\u001b[0m\u001b[1;36m20\u001b[0m\u001b[1;33m,\u001b[0m \u001b[0mepoch\u001b[0m\u001b[1;33m=\u001b[0m\u001b[1;36m5\u001b[0m\u001b[1;33m,\u001b[0m \u001b[0mlr\u001b[0m\u001b[1;33m=\u001b[0m\u001b[1;36m0.00001\u001b[0m\u001b[1;33m,\u001b[0m \u001b[0mmomentum\u001b[0m\u001b[1;33m=\u001b[0m\u001b[1;36m0.1\u001b[0m\u001b[1;33m)\u001b[0m\u001b[1;33m\u001b[0m\u001b[1;33m\u001b[0m\u001b[0m\n\u001b[0m\u001b[0;32m      3\u001b[0m \u001b[0mres\u001b[0m\u001b[1;33m[\u001b[0m\u001b[1;34m\"d_f\"\u001b[0m\u001b[1;33m]\u001b[0m \u001b[1;33m=\u001b[0m \u001b[1;33m(\u001b[0m\u001b[0mtr_los\u001b[0m\u001b[1;33m,\u001b[0m \u001b[0mtr_ac\u001b[0m\u001b[1;33m,\u001b[0m \u001b[0mte_los\u001b[0m\u001b[1;33m,\u001b[0m \u001b[0mte_ac\u001b[0m\u001b[1;33m)\u001b[0m\u001b[1;33m\u001b[0m\u001b[1;33m\u001b[0m\u001b[0m\n\u001b[0;32m      4\u001b[0m \u001b[0md_model_c\u001b[0m\u001b[1;33m,\u001b[0m \u001b[0mtr_los\u001b[0m\u001b[1;33m,\u001b[0m \u001b[0mtr_ac\u001b[0m\u001b[1;33m,\u001b[0m \u001b[0mte_los\u001b[0m\u001b[1;33m,\u001b[0m \u001b[0mte_ac\u001b[0m \u001b[1;33m=\u001b[0m \u001b[0mmnist_experiment\u001b[0m\u001b[1;33m(\u001b[0m\u001b[1;34m\"dropout\"\u001b[0m\u001b[1;33m,\u001b[0m \u001b[0mtrain_dataloader\u001b[0m\u001b[1;33m,\u001b[0m \u001b[0mvalid_dataloader\u001b[0m\u001b[1;33m,\u001b[0m \u001b[0mdropout_rate\u001b[0m\u001b[1;33m=\u001b[0m\u001b[1;36m0.2\u001b[0m\u001b[1;33m,\u001b[0m \u001b[0mdropout_type\u001b[0m\u001b[1;33m=\u001b[0m\u001b[1;34m'c'\u001b[0m\u001b[1;33m,\u001b[0m \u001b[0mnum_sample\u001b[0m\u001b[1;33m=\u001b[0m\u001b[1;36m5\u001b[0m\u001b[1;33m,\u001b[0m \u001b[0mvalid_num_sample\u001b[0m\u001b[1;33m=\u001b[0m\u001b[1;36m20\u001b[0m\u001b[1;33m,\u001b[0m \u001b[0mepoch\u001b[0m\u001b[1;33m=\u001b[0m\u001b[1;36m5\u001b[0m\u001b[1;33m,\u001b[0m \u001b[0mlr\u001b[0m\u001b[1;33m=\u001b[0m\u001b[1;36m0.00001\u001b[0m\u001b[1;33m,\u001b[0m \u001b[0mmomentum\u001b[0m\u001b[1;33m=\u001b[0m\u001b[1;36m0.1\u001b[0m\u001b[1;33m)\u001b[0m\u001b[1;33m\u001b[0m\u001b[1;33m\u001b[0m\u001b[0m\n\u001b[0;32m      5\u001b[0m \u001b[0mres\u001b[0m\u001b[1;33m[\u001b[0m\u001b[1;34m\"d_c\"\u001b[0m\u001b[1;33m]\u001b[0m \u001b[1;33m=\u001b[0m \u001b[1;33m(\u001b[0m\u001b[0mtr_los\u001b[0m\u001b[1;33m,\u001b[0m \u001b[0mtr_ac\u001b[0m\u001b[1;33m,\u001b[0m \u001b[0mte_los\u001b[0m\u001b[1;33m,\u001b[0m \u001b[0mte_ac\u001b[0m\u001b[1;33m)\u001b[0m\u001b[1;33m\u001b[0m\u001b[1;33m\u001b[0m\u001b[0m\n",
      "\u001b[1;32m~\\AppData\\Local\\Temp/ipykernel_8704/2450726489.py\u001b[0m in \u001b[0;36mmnist_experiment\u001b[1;34m(bnn_model, train_dataloader, valid_dataloader, use_aleatoric, **kwargs)\u001b[0m\n\u001b[0;32m     48\u001b[0m             \u001b[0moutputs\u001b[0m \u001b[1;33m=\u001b[0m \u001b[0moutput_mean\u001b[0m \u001b[1;33m+\u001b[0m \u001b[0meps\u001b[0m \u001b[1;33m*\u001b[0m \u001b[0moutput_std\u001b[0m\u001b[1;33m\u001b[0m\u001b[1;33m\u001b[0m\u001b[0m\n\u001b[0;32m     49\u001b[0m           \u001b[0mloss\u001b[0m \u001b[1;33m=\u001b[0m \u001b[0mcriterion\u001b[0m\u001b[1;33m(\u001b[0m\u001b[0moutputs\u001b[0m\u001b[1;33m,\u001b[0m \u001b[0mlabels\u001b[0m\u001b[1;33m)\u001b[0m\u001b[1;33m\u001b[0m\u001b[1;33m\u001b[0m\u001b[0m\n\u001b[1;32m---> 50\u001b[1;33m           \u001b[0mloss\u001b[0m\u001b[1;33m.\u001b[0m\u001b[0mbackward\u001b[0m\u001b[1;33m(\u001b[0m\u001b[1;33m)\u001b[0m\u001b[1;33m\u001b[0m\u001b[1;33m\u001b[0m\u001b[0m\n\u001b[0m\u001b[0;32m     51\u001b[0m           \u001b[0moptimizer\u001b[0m\u001b[1;33m.\u001b[0m\u001b[0mstep\u001b[0m\u001b[1;33m(\u001b[0m\u001b[1;33m)\u001b[0m\u001b[1;33m\u001b[0m\u001b[1;33m\u001b[0m\u001b[0m\n\u001b[0;32m     52\u001b[0m \u001b[1;33m\u001b[0m\u001b[0m\n",
      "\u001b[1;32m~\\AppData\\Roaming\\Python\\Python39\\site-packages\\torch\\_tensor.py\u001b[0m in \u001b[0;36mbackward\u001b[1;34m(self, gradient, retain_graph, create_graph, inputs)\u001b[0m\n\u001b[0;32m    305\u001b[0m                 \u001b[0mcreate_graph\u001b[0m\u001b[1;33m=\u001b[0m\u001b[0mcreate_graph\u001b[0m\u001b[1;33m,\u001b[0m\u001b[1;33m\u001b[0m\u001b[1;33m\u001b[0m\u001b[0m\n\u001b[0;32m    306\u001b[0m                 inputs=inputs)\n\u001b[1;32m--> 307\u001b[1;33m         \u001b[0mtorch\u001b[0m\u001b[1;33m.\u001b[0m\u001b[0mautograd\u001b[0m\u001b[1;33m.\u001b[0m\u001b[0mbackward\u001b[0m\u001b[1;33m(\u001b[0m\u001b[0mself\u001b[0m\u001b[1;33m,\u001b[0m \u001b[0mgradient\u001b[0m\u001b[1;33m,\u001b[0m \u001b[0mretain_graph\u001b[0m\u001b[1;33m,\u001b[0m \u001b[0mcreate_graph\u001b[0m\u001b[1;33m,\u001b[0m \u001b[0minputs\u001b[0m\u001b[1;33m=\u001b[0m\u001b[0minputs\u001b[0m\u001b[1;33m)\u001b[0m\u001b[1;33m\u001b[0m\u001b[1;33m\u001b[0m\u001b[0m\n\u001b[0m\u001b[0;32m    308\u001b[0m \u001b[1;33m\u001b[0m\u001b[0m\n\u001b[0;32m    309\u001b[0m     \u001b[1;32mdef\u001b[0m \u001b[0mregister_hook\u001b[0m\u001b[1;33m(\u001b[0m\u001b[0mself\u001b[0m\u001b[1;33m,\u001b[0m \u001b[0mhook\u001b[0m\u001b[1;33m)\u001b[0m\u001b[1;33m:\u001b[0m\u001b[1;33m\u001b[0m\u001b[1;33m\u001b[0m\u001b[0m\n",
      "\u001b[1;32m~\\AppData\\Roaming\\Python\\Python39\\site-packages\\torch\\autograd\\__init__.py\u001b[0m in \u001b[0;36mbackward\u001b[1;34m(tensors, grad_tensors, retain_graph, create_graph, grad_variables, inputs)\u001b[0m\n\u001b[0;32m    152\u001b[0m         \u001b[0mretain_graph\u001b[0m \u001b[1;33m=\u001b[0m \u001b[0mcreate_graph\u001b[0m\u001b[1;33m\u001b[0m\u001b[1;33m\u001b[0m\u001b[0m\n\u001b[0;32m    153\u001b[0m \u001b[1;33m\u001b[0m\u001b[0m\n\u001b[1;32m--> 154\u001b[1;33m     Variable._execution_engine.run_backward(\n\u001b[0m\u001b[0;32m    155\u001b[0m         \u001b[0mtensors\u001b[0m\u001b[1;33m,\u001b[0m \u001b[0mgrad_tensors_\u001b[0m\u001b[1;33m,\u001b[0m \u001b[0mretain_graph\u001b[0m\u001b[1;33m,\u001b[0m \u001b[0mcreate_graph\u001b[0m\u001b[1;33m,\u001b[0m \u001b[0minputs\u001b[0m\u001b[1;33m,\u001b[0m\u001b[1;33m\u001b[0m\u001b[1;33m\u001b[0m\u001b[0m\n\u001b[0;32m    156\u001b[0m         allow_unreachable=True, accumulate_grad=True)  # allow_unreachable flag\n",
      "\u001b[1;31mKeyboardInterrupt\u001b[0m: "
     ]
    }
   ],
   "source": [
    "res[\"d_w\"] = (tr_los, tr_ac, te_los, te_ac)\n",
    "d_model_f, tr_los, tr_ac, te_los, te_ac = mnist_experiment(\"dropout\", train_dataloader, valid_dataloader, dropout_rate=0.2, dropout_type='f', num_sample=5, valid_num_sample=20, epoch=5, lr=0.00001, momentum=0.1)\n",
    "res[\"d_f\"] = (tr_los, tr_ac, te_los, te_ac)\n",
    "d_model_c, tr_los, tr_ac, te_los, te_ac = mnist_experiment(\"dropout\", train_dataloader, valid_dataloader, dropout_rate=0.2, dropout_type='c', num_sample=5, valid_num_sample=20, epoch=5, lr=0.00001, momentum=0.1)\n",
    "res[\"d_c\"] = (tr_los, tr_ac, te_los, te_ac)"
   ]
  },
  {
   "cell_type": "code",
   "execution_count": null,
   "metadata": {},
   "outputs": [],
   "source": [
    "e_model, tr_los, tr_ac, te_los, te_ac = mnist_experiment(\"ensemble\", train_dataloader, valid_dataloader, num_ensemble = 5, epoch=5, lr=0.00001, momentum=0.1)\n",
    "res[\"e\"] = (tr_los, tr_ac, te_los, te_ac)"
   ]
  },
  {
   "cell_type": "code",
   "execution_count": null,
   "metadata": {},
   "outputs": [],
   "source": [
    "model, tr_los, tr_ac, te_los, te_ac = mnist_experiment(\"swag\", train_dataloader, valid_dataloader, epoch=5, lr=0.00001, momentum=0.1)\n",
    "res[\"s\"] = (tr_los, tr_ac, te_los, te_ac)"
   ]
  },
  {
   "cell_type": "code",
   "execution_count": null,
   "metadata": {},
   "outputs": [],
   "source": [
    "b_model, tr_los, tr_ac, te_los, te_ac = mnist_experiment(\"batchensemble\", train_dataloader, valid_dataloader, num_models=5, epoch=5, lr=0.00001, momentum=0.1)"
   ]
  },
  {
   "cell_type": "code",
   "execution_count": null,
   "metadata": {},
   "outputs": [],
   "source": [
    "for k, v in res.items():\n",
    "  print(k, v[0])"
   ]
  }
 ],
 "metadata": {
  "interpreter": {
   "hash": "11938c6bc6919ae2720b4d5011047913343b08a43b18698fd82dedb0d4417594"
  },
  "kernelspec": {
   "display_name": "Python 3.9.6 64-bit",
   "language": "python",
   "name": "python3"
  },
  "language_info": {
   "codemirror_mode": {
    "name": "ipython",
    "version": 3
   },
   "file_extension": ".py",
   "mimetype": "text/x-python",
   "name": "python",
   "nbconvert_exporter": "python",
   "pygments_lexer": "ipython3",
   "version": "3.9.6"
  },
  "orig_nbformat": 4
 },
 "nbformat": 4,
 "nbformat_minor": 2
}
