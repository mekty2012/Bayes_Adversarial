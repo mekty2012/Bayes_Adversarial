{
 "cells": [
  {
   "cell_type": "code",
   "execution_count": null,
   "metadata": {},
   "outputs": [],
   "source": [
    "import models\n",
    "import torch"
   ]
  },
  {
   "cell_type": "code",
   "execution_count": null,
   "metadata": {},
   "outputs": [],
   "source": [
    "x = torch.rand([1, 1, 224, 224])\n",
    "m = models.gaussian_resnet18(\"sq\", dict(), False)\n",
    "print(m(x).shape)\n",
    "m = models.gaussian_resnet18(\"exp\", dict(), False)\n",
    "print(m(x).shape)\n",
    "m = models.gaussian_resnet18(\"sq\", dict(), True)\n",
    "print(m(x).shape)\n",
    "m = models.gaussian_resnet18(\"exp\", dict(), True)\n",
    "print(m(x).shape)"
   ]
  },
  {
   "cell_type": "code",
   "execution_count": null,
   "metadata": {},
   "outputs": [],
   "source": [
    "x = torch.rand([1, 1, 224, 224])\n",
    "m = models.dropout_resnet18(0.2, \"w\", dict())\n",
    "print(m(x).shape)\n",
    "m = models.dropout_resnet18(0.2, \"f\", dict())\n",
    "print(m(x).shape)\n",
    "m = models.dropout_resnet18(0.2, \"c\", dict())\n",
    "print(m(x).shape)"
   ]
  },
  {
   "cell_type": "code",
   "execution_count": null,
   "metadata": {},
   "outputs": [],
   "source": [
    "m = models.ensemble_resnet18(5)\n",
    "y = m(x)\n",
    "print(len(y), y[0].shape)"
   ]
  },
  {
   "cell_type": "code",
   "execution_count": null,
   "metadata": {},
   "outputs": [],
   "source": [
    "m = models.batchensemble_resnet18(3)\n",
    "y = m(x)\n",
    "print(y.shape)"
   ]
  }
 ],
 "metadata": {
  "interpreter": {
   "hash": "11938c6bc6919ae2720b4d5011047913343b08a43b18698fd82dedb0d4417594"
  },
  "kernelspec": {
   "display_name": "Python 3.9.6 64-bit",
   "language": "python",
   "name": "python3"
  },
  "language_info": {
   "codemirror_mode": {
    "name": "ipython",
    "version": 3
   },
   "file_extension": ".py",
   "mimetype": "text/x-python",
   "name": "python",
   "nbconvert_exporter": "python",
   "pygments_lexer": "ipython3",
   "version": "3.9.6"
  },
  "orig_nbformat": 4
 },
 "nbformat": 4,
 "nbformat_minor": 2
}
