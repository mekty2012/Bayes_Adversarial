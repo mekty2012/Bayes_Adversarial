{
 "cells": [
  {
   "cell_type": "code",
   "execution_count": 1,
   "metadata": {},
   "outputs": [],
   "source": [
    "import attack.fgsm\n",
    "import models.lenet5_cifar10\n",
    "import torch\n",
    "from torch import nn, optim, utils\n",
    "from torchvision import datasets, transforms\n",
    "from matplotlib import pyplot"
   ]
  },
  {
   "cell_type": "code",
   "execution_count": 2,
   "metadata": {},
   "outputs": [
    {
     "data": {
      "text/plain": [
       "RecursiveScriptModule(\n",
       "  original_name=batchensemble_lenet5\n",
       "  (conv1): RecursiveScriptModule(\n",
       "    original_name=Sequential\n",
       "    (0): RecursiveScriptModule(\n",
       "      original_name=BatchEnsemble_Conv2D\n",
       "      (conv2d): RecursiveScriptModule(original_name=Conv2d)\n",
       "    )\n",
       "    (1): RecursiveScriptModule(original_name=ReLU)\n",
       "    (2): RecursiveScriptModule(\n",
       "      original_name=BatchEnsemble_Conv2D\n",
       "      (conv2d): RecursiveScriptModule(original_name=Conv2d)\n",
       "    )\n",
       "  )\n",
       "  (conv2): RecursiveScriptModule(\n",
       "    original_name=Sequential\n",
       "    (0): RecursiveScriptModule(\n",
       "      original_name=BatchEnsemble_Conv2D\n",
       "      (conv2d): RecursiveScriptModule(original_name=Conv2d)\n",
       "    )\n",
       "    (1): RecursiveScriptModule(original_name=ReLU)\n",
       "    (2): RecursiveScriptModule(\n",
       "      original_name=BatchEnsemble_Conv2D\n",
       "      (conv2d): RecursiveScriptModule(original_name=Conv2d)\n",
       "    )\n",
       "  )\n",
       "  (conv3): RecursiveScriptModule(\n",
       "    original_name=Sequential\n",
       "    (0): RecursiveScriptModule(\n",
       "      original_name=BatchEnsemble_Conv2D\n",
       "      (conv2d): RecursiveScriptModule(original_name=Conv2d)\n",
       "    )\n",
       "    (1): RecursiveScriptModule(original_name=ReLU)\n",
       "    (2): RecursiveScriptModule(\n",
       "      original_name=BatchEnsemble_Conv2D\n",
       "      (conv2d): RecursiveScriptModule(original_name=Conv2d)\n",
       "    )\n",
       "  )\n",
       "  (dropout): RecursiveScriptModule(original_name=Dropout)\n",
       "  (fc1): RecursiveScriptModule(\n",
       "    original_name=BatchEnsemble_Linear\n",
       "    (fc): RecursiveScriptModule(original_name=Linear)\n",
       "  )\n",
       "  (fc2): RecursiveScriptModule(\n",
       "    original_name=BatchEnsemble_Linear\n",
       "    (fc): RecursiveScriptModule(original_name=Linear)\n",
       "  )\n",
       ")"
      ]
     },
     "execution_count": 2,
     "metadata": {},
     "output_type": "execute_result"
    }
   ],
   "source": [
    "model = torch.jit.load(\"models/batchensemble_scripted.pt\")\n",
    "model.eval()"
   ]
  },
  {
   "cell_type": "code",
   "execution_count": 3,
   "metadata": {},
   "outputs": [],
   "source": [
    "class wrap_aleatoric(nn.Module):\n",
    "  \n",
    "  def __init__(self, model):\n",
    "    super().__init__()\n",
    "    self.model = model\n",
    "  \n",
    "  def forward(self, x):\n",
    "    outputs = self.model(x)\n",
    "    output_mean, output_std = torch.chunk(outputs, 2, dim=1)\n",
    "    output_var = torch.square(output_std).reshape(-1, 5, 10).sum(dim=1) # [batch_size, 10]\n",
    "    output_means = torch.reshape(output_mean, [-1, 5, 10])\n",
    "    output_mean = torch.mean(output_means, dim=1)\n",
    "    output_var = output_var + torch.var(output_means, dim=1)\n",
    "    output_std = torch.sqrt(output_var)\n",
    "    eps = torch.normal(0, 1, output_mean.shape, device='cuda')\n",
    "    outputs = output_mean + eps * output_std\n",
    "    return outputs"
   ]
  },
  {
   "cell_type": "code",
   "execution_count": 4,
   "metadata": {},
   "outputs": [
    {
     "name": "stdout",
     "output_type": "stream",
     "text": [
      "Files already downloaded and verified\n"
     ]
    }
   ],
   "source": [
    "config = {\"random_init\":False, \"eps\":0.1}\n",
    "new_model = wrap_aleatoric(model)\n",
    "new_model = new_model.cuda()\n",
    "fgsm = attack.fgsm.FGSM(new_model, config)\n",
    "\n",
    "transform = transforms.ToTensor()\n",
    "root = \"./models/CIFAR10_DATASET\"\n",
    "train_dataset = datasets.CIFAR10(root, transform=transform, train=True, download=True)\n",
    "train_dataloader = utils.data.DataLoader(train_dataset, batch_size=64, shuffle=False)"
   ]
  },
  {
   "cell_type": "code",
   "execution_count": 5,
   "metadata": {},
   "outputs": [
    {
     "name": "stdout",
     "output_type": "stream",
     "text": [
      "10315.042098999023 13381.013586997986\n",
      "0.9308274799998537 0.4911096000000197\n"
     ]
    }
   ],
   "source": [
    "train_loss = 0.0\n",
    "train_count = 0\n",
    "adv_loss = 0.0\n",
    "adv_count = 0\n",
    "criterion = nn.CrossEntropyLoss()\n",
    "valid_num_sample = 100\n",
    "for data in train_dataloader:\n",
    "  new_model.zero_grad()\n",
    "  x, y = data\n",
    "  x = x.cuda()\n",
    "  y = y.cuda()\n",
    "  output = new_model(x)\n",
    "  train_loss += criterion(output, y).item()\n",
    "  s_y = y.repeat(5)\n",
    "  \n",
    "  outputs = model(x)\n",
    "  output_mean, output_std = torch.chunk(outputs, 2, dim=1)\n",
    "  for _ in range(valid_num_sample):\n",
    "    eps = torch.normal(0, 1, output_mean.shape, device='cuda')\n",
    "    output_sample = output_mean + eps * output_std\n",
    "    output_pred = torch.argmax(output_sample.detach(), dim=1)\n",
    "    acc_count = torch.count_nonzero(output_pred == s_y).item() / (5 * valid_num_sample)\n",
    "    train_count += acc_count\n",
    "  \n",
    "  x_adv = fgsm(x, y)\n",
    "  adv_output = new_model(x_adv)\n",
    "  adv_loss += criterion(adv_output, y).item()\n",
    "\n",
    "  outputs = model(x_adv)\n",
    "  output_mean, output_std = torch.chunk(outputs, 2, dim=1)\n",
    "  for _ in range(valid_num_sample):\n",
    "    eps = torch.normal(0, 1, output_mean.shape, device='cuda')\n",
    "    output_sample = output_mean + eps * output_std\n",
    "    output_pred = torch.argmax(output_sample.detach(), dim=1)\n",
    "    acc_count = torch.count_nonzero(output_pred == s_y).item() / (5 * valid_num_sample)\n",
    "    adv_count += acc_count\n",
    "  \n",
    "print(train_loss, adv_loss)\n",
    "print(train_count / len(train_dataset), adv_count / len(train_dataset))"
   ]
  }
 ],
 "metadata": {
  "kernelspec": {
   "display_name": "Python 3 (ipykernel)",
   "language": "python",
   "name": "python3"
  },
  "language_info": {
   "codemirror_mode": {
    "name": "ipython",
    "version": 3
   },
   "file_extension": ".py",
   "mimetype": "text/x-python",
   "name": "python",
   "nbconvert_exporter": "python",
   "pygments_lexer": "ipython3",
   "version": "3.9.7"
  },
  "orig_nbformat": 4
 },
 "nbformat": 4,
 "nbformat_minor": 2
}
